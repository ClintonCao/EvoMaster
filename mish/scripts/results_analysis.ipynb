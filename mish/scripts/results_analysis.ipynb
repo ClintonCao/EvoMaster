{
 "cells": [
  {
   "cell_type": "code",
   "execution_count": 1,
   "metadata": {},
   "outputs": [],
   "source": [
    "def parse_results_num(file):\n",
    "    with open(file) as f:\n",
    "        lines = f.readlines() \n",
    "        num_covered_targets = 0\n",
    "        num_potential_faults = 0\n",
    "        num_potential_500_faults = 0\n",
    "        \n",
    "        # if version == 'v200':\n",
    "        #     pt500_text_to_check = \"* Potential 500 faults IDs: \"\n",
    "        # else:\n",
    "        #     pt500_text_to_check = \"* Potential 500 faults: \"\n",
    "\n",
    "        for line in lines:\n",
    "            if \"* Covered targets (lines\" in line:\n",
    "                num_covered_targets = int(line.split(\"etc.): \")[1].split('\\n')[0])\n",
    "            if \"* Potential faults: \" in line:\n",
    "                num_potential_faults = int(line.split('faults: ')[1].split('\\n')[0])\n",
    "            if \"* Potential 500 faults: \" in line:\n",
    "                num_potential_500_faults = int(line.split(\"* Potential 500 faults: \")[1].split('\\n')[0])\n",
    "\n",
    "        if num_covered_targets == 0 and num_potential_faults == 0 and num_potential_500_faults == 0:\n",
    "            print(f\"Results missing for file: {file}\")\n",
    "        \n",
    "        return num_covered_targets, num_potential_faults, num_potential_500_faults\n",
    "       \n"
   ]
  },
  {
   "cell_type": "code",
   "execution_count": 61,
   "metadata": {},
   "outputs": [],
   "source": [
    "num_iterations = 11\n",
    "app = \"languagetool\"\n",
    "algorithms = ['MOSA', 'MISH']#, 'MISHMOSA']\n",
    "fitness_functions = ['lower_median', 'weighted_size']\n",
    "# if algorithm == 'MOSA':\n",
    "result_format = f'with_500_faults_EM_logs'\n",
    "version = 'v200'\n",
    "fitness_abbrev = {'lower_median': 'LM', 'weighted_size': 'WS'}\n",
    "# else:\n",
    "    # result_format = f'with_500_faults_{fitness_function}_EM_logs'\n",
    "\n",
    "all_runs_covered_targets = dict()\n",
    "all_runs_potential_faults = dict()\n",
    "all_runs_potential_500_faults = dict()\n",
    "\n",
    "for algorithm in algorithms:\n",
    "    for fitness_function in fitness_functions:\n",
    "        \n",
    "        if algorithm == 'MOSA' and fitness_function == 'weighted_size':\n",
    "            continue\n",
    "\n",
    "        covered_targets = []\n",
    "        potential_faults = []\n",
    "        potential_500_faults = []\n",
    "        for i in range(1, num_iterations):\n",
    "            file = f\"../../results_{app}_{version}_{fitness_function}_better_sampling_latest/{app}_{result_format}_{algorithm}_{i}.txt\"\n",
    "            ct, pt, pt500 = parse_results_num(file)\n",
    "            covered_targets.append(ct)\n",
    "            potential_faults.append(pt)\n",
    "            potential_500_faults.append(pt500)\n",
    "        \n",
    "        if algorithm == 'MOSA':\n",
    "            all_runs_covered_targets[algorithm] = covered_targets\n",
    "            all_runs_potential_faults[algorithm] = potential_faults\n",
    "            all_runs_potential_500_faults[algorithm] = potential_500_faults\n",
    "        \n",
    "        else:\n",
    "            all_runs_covered_targets[algorithm + \" - \" + fitness_abbrev[fitness_function]] = covered_targets\n",
    "            all_runs_potential_faults[algorithm + \" - \" + fitness_abbrev[fitness_function]] = potential_faults\n",
    "            all_runs_potential_500_faults[algorithm + \" - \" + fitness_abbrev[fitness_function]] = potential_500_faults\n",
    "\n"
   ]
  },
  {
   "cell_type": "code",
   "execution_count": 62,
   "metadata": {},
   "outputs": [
    {
     "name": "stdout",
     "output_type": "stream",
     "text": [
      "16306 \t 2911 \t 2888\n",
      "3012 \t 2916 \t 2932\n",
      "3058 \t 3180 \t 3170\n",
      "3084 \t 2904 \t 10658\n",
      "3104 \t 2899 \t 2977\n",
      "2950 \t 2926 \t 2901\n",
      "3071 \t 3026 \t 3055\n",
      "3157 \t 3033 \t 2906\n",
      "18473 \t 3029 \t 3104\n",
      "14278 \t 2919 \t 2969\n"
     ]
    }
   ],
   "source": [
    "MOSA_covered_targets = all_runs_covered_targets['MOSA']\n",
    "MISH_LM_covered_targets = all_runs_covered_targets['MISH - LM']\n",
    "MISH_WS_covered_targets = all_runs_covered_targets['MISH - WS']\n",
    "\n",
    "# Print them in table format\n",
    "# print(\"MOSA \\t MISH - LM \\t MISH - WS\")\n",
    "for i in range(num_iterations - 1):\n",
    "    # print(f\"{MOSA_covered_targets[i]} \\t {MISH_covered_targets[i]} \\t {MISHMOSA_covered_targets[i]}\")\n",
    "    print(f\"{MOSA_covered_targets[i]} \\t {MISH_LM_covered_targets[i]} \\t {MISH_WS_covered_targets[i]}\")"
   ]
  },
  {
   "cell_type": "code",
   "execution_count": 63,
   "metadata": {},
   "outputs": [
    {
     "name": "stdout",
     "output_type": "stream",
     "text": [
      "6 \t 7 \t 5\n",
      "6 \t 7 \t 6\n",
      "7 \t 6 \t 6\n",
      "5 \t 8 \t 7\n",
      "7 \t 6 \t 6\n",
      "7 \t 6 \t 6\n",
      "7 \t 7 \t 7\n",
      "7 \t 7 \t 6\n",
      "8 \t 6 \t 7\n",
      "8 \t 6 \t 7\n"
     ]
    }
   ],
   "source": [
    "MOSA_covered_targets = all_runs_potential_faults['MOSA']\n",
    "MISH_LM_covered_targets = all_runs_potential_faults['MISH - LM']\n",
    "MISH_WS_covered_targets = all_runs_potential_faults['MISH - WS']\n",
    "\n",
    "# Print them in table format\n",
    "# print(\"MOSA \\t MISH - LM \\t MISH - WS\")\n",
    "for i in range(num_iterations - 1):\n",
    "    # print(f\"{MOSA_covered_targets[i]} \\t {MISH_covered_targets[i]} \\t {MISHMOSA_covered_targets[i]}\")\n",
    "    print(f\"{MOSA_covered_targets[i]} \\t {MISH_LM_covered_targets[i]} \\t {MISH_WS_covered_targets[i]}\")"
   ]
  },
  {
   "cell_type": "code",
   "execution_count": 64,
   "metadata": {},
   "outputs": [
    {
     "name": "stdout",
     "output_type": "stream",
     "text": [
      "3 \t 5 \t 3\n",
      "4 \t 5 \t 4\n",
      "5 \t 4 \t 4\n",
      "3 \t 6 \t 4\n",
      "5 \t 4 \t 4\n",
      "5 \t 4 \t 4\n",
      "5 \t 5 \t 5\n",
      "5 \t 5 \t 4\n",
      "5 \t 4 \t 5\n",
      "5 \t 4 \t 5\n"
     ]
    }
   ],
   "source": [
    "MOSA_covered_targets = all_runs_potential_500_faults['MOSA']\n",
    "MISH_LM_covered_targets = all_runs_potential_500_faults['MISH - LM']\n",
    "MISH_WS_covered_targets = all_runs_potential_500_faults['MISH - WS']\n",
    "\n",
    "# Print them in table format\n",
    "# print(\"MOSA \\t MISH - LM \\t MISH - WS\")\n",
    "for i in range(num_iterations - 1):\n",
    "    # print(f\"{MOSA_covered_targets[i]} \\t {MISH_covered_targets[i]} \\t {MISHMOSA_covered_targets[i]}\")\n",
    "    print(f\"{MOSA_covered_targets[i]} \\t {MISH_LM_covered_targets[i]} \\t {MISH_WS_covered_targets[i]}\")"
   ]
  },
  {
   "cell_type": "markdown",
   "metadata": {},
   "source": [
    "# Computing statistics for paper."
   ]
  },
  {
   "cell_type": "code",
   "execution_count": 6,
   "metadata": {},
   "outputs": [
    {
     "name": "stdout",
     "output_type": "stream",
     "text": [
      "MOSA\tMISH - LM\tMISH - WS\n",
      "10.0\t2.0\t7.0\t1.0\t7.0\t1.75\n",
      "25.0\t0.75\t24.0\t0.75\t23.5\t1.75\n",
      "57.5\t2.75\t52.5\t2.5\t45.0\t4.0\n",
      "29.0\t4.75\t34.0\t2.0\t34.5\t2.0\n",
      "5.0\t0.75\t5.5\t1.0\t4.0\t0.75\n"
     ]
    }
   ],
   "source": [
    "from statistics import median\n",
    "import numpy as np\n",
    "num_iterations = 11\n",
    "applications = ['catwatch', 'features-service', 'scout-api', 'proxyprint', 'languagetool']\n",
    "algorithms = ['MOSA', 'MISH']#, 'MISHMOSA']\n",
    "fitness_functions = ['lower_median', 'weighted_size']\n",
    "abbrev_map = {'lower_median': 'LM', 'weighted_size': 'WS'}\n",
    "result_format = f'with_500_faults_EM_logs'\n",
    "version = 'v320'\n",
    "\n",
    "app_results = dict()\n",
    "for app in applications:\n",
    "    app_results[app] = dict()\n",
    "    all_runs_covered_targets = dict()\n",
    "    all_runs_potential_faults = dict()\n",
    "    all_runs_potential_500_faults = dict()\n",
    "\n",
    "    for fitness_function in fitness_functions:\n",
    "        for algorithm in algorithms:\n",
    "            if algorithm == 'MOSA' and fitness_function == 'weighted_size':\n",
    "                continue\n",
    "\n",
    "            covered_targets = []\n",
    "            potential_faults = []\n",
    "            potential_500_faults = []\n",
    "            for i in range(1, num_iterations):\n",
    "                file = f\"../../results_{app}_{version}_{fitness_function}_latest/{app}_{result_format}_{algorithm}_{i}.txt\"\n",
    "                ct, pt, pt500 = parse_results_num(file, version)\n",
    "                covered_targets.append(ct)\n",
    "                potential_faults.append(pt)\n",
    "                potential_500_faults.append(pt500)\n",
    "            \n",
    "            if algorithm == 'MOSA':\n",
    "                method_name = algorithm\n",
    "            else:\n",
    "                method_name = f\"{algorithm} - {abbrev_map[fitness_function]}\"\n",
    "\n",
    "            all_runs_covered_targets[method_name] = covered_targets\n",
    "            all_runs_potential_faults[method_name] = potential_faults\n",
    "            all_runs_potential_500_faults[method_name] = potential_500_faults\n",
    "\n",
    "    app_results[app]['covered_targets'] = all_runs_covered_targets\n",
    "    app_results[app]['potential_faults'] = all_runs_potential_faults\n",
    "    app_results[app]['potential_500_faults'] = all_runs_potential_500_faults\n",
    "\n",
    "# first print the method names in one line\n",
    "method_names = ['MOSA', 'MISH - LM', 'MISH - WS']#, 'MISHMOSA - LM', 'MISHMOSA - WS']\n",
    "print('\\t'.join(method_names))\n",
    "\n",
    "# Then print the median covered targets\n",
    "output_to_print = []\n",
    "\n",
    "metric = 'potential_500_faults'\n",
    "\n",
    "for app in applications:\n",
    "    app_output = []\n",
    "    for method_name in method_names:\n",
    "        method_results = app_results[app][metric][method_name]\n",
    "        med_res = str(median(method_results))\n",
    "        q75, q25 = np.percentile(method_results, [75 ,25])\n",
    "        iqr = q75 - q25\n",
    "        app_output.append(med_res)\n",
    "        app_output.append(str(iqr))\n",
    "\n",
    "\n",
    "    output_to_print.append(app_output)\n",
    "\n",
    "for output in output_to_print:\n",
    "    print('\\t'.join(output))\n",
    "\n",
    "\n",
    "\n",
    "\n"
   ]
  },
  {
   "cell_type": "code",
   "execution_count": null,
   "metadata": {},
   "outputs": [],
   "source": []
  }
 ],
 "metadata": {
  "kernelspec": {
   "display_name": "python3.13",
   "language": "python",
   "name": "python3"
  },
  "language_info": {
   "codemirror_mode": {
    "name": "ipython",
    "version": 3
   },
   "file_extension": ".py",
   "mimetype": "text/x-python",
   "name": "python",
   "nbconvert_exporter": "python",
   "pygments_lexer": "ipython3",
   "version": "3.13.0"
  }
 },
 "nbformat": 4,
 "nbformat_minor": 2
}
