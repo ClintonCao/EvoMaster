{
 "cells": [
  {
   "cell_type": "code",
   "execution_count": 1,
   "metadata": {},
   "outputs": [],
   "source": [
    "def parse_results_num(file, version):\n",
    "    with open(file) as f:\n",
    "        lines = f.readlines() \n",
    "        num_covered_targets = 0\n",
    "        num_potential_faults = 0\n",
    "        num_potential_500_faults = 0\n",
    "        \n",
    "        if version == 'v200':\n",
    "            pt500_text_to_check = \"* Potential 500 faults IDs: \"\n",
    "        else:\n",
    "            pt500_text_to_check = \"* Potential 500 faults: \"\n",
    "\n",
    "        for line in lines:\n",
    "            if \"* Covered targets (lines\" in line:\n",
    "                num_covered_targets = int(line.split(\"etc.): \")[1].split('\\n')[0])\n",
    "            if \"* Potential faults: \" in line:\n",
    "                num_potential_faults = int(line.split('faults: ')[1].split('\\n')[0])\n",
    "            if pt500_text_to_check in line:\n",
    "                num_potential_500_faults = int(line.split(pt500_text_to_check)[1].split('\\n')[0])\n",
    "\n",
    "        \n",
    "        return num_covered_targets, num_potential_faults, num_potential_500_faults\n",
    "       \n"
   ]
  },
  {
   "cell_type": "code",
   "execution_count": 31,
   "metadata": {},
   "outputs": [],
   "source": [
    "num_iterations = 11\n",
    "app = \"proxyprint\"\n",
    "algorithms = ['MOSA', 'MISH', 'MISHMOSA']\n",
    "fitness_function = 'lower_median'\n",
    "# if algorithm == 'MOSA':\n",
    "result_format = f'with_500_faults_EM_logs'\n",
    "version = 'v200'\n",
    "# else:\n",
    "    # result_format = f'with_500_faults_{fitness_function}_EM_logs'\n",
    "\n",
    "all_runs_covered_targets = dict()\n",
    "all_runs_potential_faults = dict()\n",
    "all_runs_potential_500_faults = dict()\n",
    "\n",
    "for algorithm in algorithms:\n",
    "    covered_targets = []\n",
    "    potential_faults = []\n",
    "    potential_500_faults = []\n",
    "    for i in range(1, num_iterations):\n",
    "        file = f\"../../results_{app}_{version}_fitness_fix_{fitness_function}/{app}_{result_format}_{algorithm}_{i}.txt\"\n",
    "        ct, pt, pt500 = parse_results_num(file, version)\n",
    "        covered_targets.append(ct)\n",
    "        potential_faults.append(pt)\n",
    "        potential_500_faults.append(pt500)\n",
    "    \n",
    "    all_runs_covered_targets[algorithm] = covered_targets\n",
    "    all_runs_potential_faults[algorithm] = potential_faults\n",
    "    all_runs_potential_500_faults[algorithm] = potential_500_faults\n"
   ]
  },
  {
   "cell_type": "code",
   "execution_count": 32,
   "metadata": {},
   "outputs": [
    {
     "name": "stdout",
     "output_type": "stream",
     "text": [
      "2789 \t 3343 \t 3305\n",
      "2839 \t 0 \t 3420\n",
      "2717 \t 3797 \t 3200\n",
      "2736 \t 3309 \t 3370\n",
      "3002 \t 3212 \t 3290\n",
      "2767 \t 3415 \t 3256\n",
      "3042 \t 3395 \t 3319\n",
      "3092 \t 3763 \t 3114\n",
      "2888 \t 3286 \t 3351\n",
      "2773 \t 3236 \t 3356\n"
     ]
    }
   ],
   "source": [
    "MOSA_covered_targets = all_runs_covered_targets['MOSA']\n",
    "MISH_covered_targets = all_runs_covered_targets['MISH']\n",
    "MISHMOSA_covered_targets = all_runs_covered_targets['MISHMOSA']\n",
    "\n",
    "# Print them in table format\n",
    "for i in range(num_iterations - 1):\n",
    "    print(f\"{MOSA_covered_targets[i]} \\t {MISH_covered_targets[i]} \\t {MISHMOSA_covered_targets[i]}\")"
   ]
  },
  {
   "cell_type": "code",
   "execution_count": 33,
   "metadata": {},
   "outputs": [
    {
     "name": "stdout",
     "output_type": "stream",
     "text": [
      "56 \t 73 \t 68\n",
      "62 \t 0 \t 70\n",
      "56 \t 70 \t 69\n",
      "58 \t 69 \t 69\n",
      "68 \t 70 \t 68\n",
      "59 \t 71 \t 68\n",
      "68 \t 68 \t 70\n",
      "69 \t 68 \t 67\n",
      "66 \t 67 \t 69\n",
      "60 \t 71 \t 69\n"
     ]
    }
   ],
   "source": [
    "MOSA_potential_faults = all_runs_potential_faults['MOSA']\n",
    "MISH_potential_faults = all_runs_potential_faults['MISH']\n",
    "MISHMOSA_potential_faults = all_runs_potential_faults['MISHMOSA']\n",
    "\n",
    "for i in range(num_iterations - 1):\n",
    "    print(f\"{MOSA_potential_faults[i]} \\t {MISH_potential_faults[i]} \\t {MISHMOSA_potential_faults[i]}\")"
   ]
  },
  {
   "cell_type": "code",
   "execution_count": 34,
   "metadata": {},
   "outputs": [
    {
     "name": "stdout",
     "output_type": "stream",
     "text": [
      "27 \t 36 \t 33\n",
      "29 \t 0 \t 35\n",
      "26 \t 34 \t 34\n",
      "28 \t 33 \t 34\n",
      "33 \t 34 \t 33\n",
      "28 \t 35 \t 33\n",
      "33 \t 33 \t 34\n",
      "34 \t 33 \t 32\n",
      "32 \t 32 \t 34\n",
      "29 \t 35 \t 34\n"
     ]
    }
   ],
   "source": [
    "MOSA_potential_500_faults = all_runs_potential_500_faults['MOSA']\n",
    "MISH_potential_500_faults = all_runs_potential_500_faults['MISH']\n",
    "MISHMOSA_potential_500_faults = all_runs_potential_500_faults['MISHMOSA']\n",
    "\n",
    "for i in range(num_iterations - 1):\n",
    "    print(f\"{MOSA_potential_500_faults[i]} \\t {MISH_potential_500_faults[i]} \\t {MISHMOSA_potential_500_faults[i]}\")"
   ]
  },
  {
   "cell_type": "code",
   "execution_count": null,
   "metadata": {},
   "outputs": [],
   "source": []
  },
  {
   "cell_type": "code",
   "execution_count": null,
   "metadata": {},
   "outputs": [],
   "source": []
  }
 ],
 "metadata": {
  "kernelspec": {
   "display_name": "Python 3",
   "language": "python",
   "name": "python3"
  },
  "language_info": {
   "codemirror_mode": {
    "name": "ipython",
    "version": 3
   },
   "file_extension": ".py",
   "mimetype": "text/x-python",
   "name": "python",
   "nbconvert_exporter": "python",
   "pygments_lexer": "ipython3",
   "version": "3.9.20"
  }
 },
 "nbformat": 4,
 "nbformat_minor": 2
}
