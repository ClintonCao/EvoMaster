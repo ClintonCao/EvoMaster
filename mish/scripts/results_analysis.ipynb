{
 "cells": [
  {
   "cell_type": "code",
   "execution_count": 29,
   "metadata": {},
   "outputs": [],
   "source": [
    "def parse_results_num(file):\n",
    "    with open(file) as f:\n",
    "        lines = f.readlines() \n",
    "        for line in lines:\n",
    "            if \"* Covered targets (lines\" in line:\n",
    "                num_covered_targets = int(line.split(\"etc.): \")[1].split('\\n')[0])\n",
    "            if \"* Potential faults: \" in line:\n",
    "                num_potential_faults = int(line.split('faults: ')[1].split('\\n')[0])\n",
    "            if \"* Potential 500 faults: \" in line:\n",
    "                num_potential_500_faults = int(line.split('500 faults: ')[1].split('\\n')[0])\n",
    "\n",
    "        \n",
    "        return num_covered_targets, num_potential_faults, num_potential_500_faults\n",
    "       \n"
   ]
  },
  {
   "cell_type": "code",
   "execution_count": 42,
   "metadata": {},
   "outputs": [],
   "source": [
    "num_iterations = 11\n",
    "app = \"catwatch\"\n",
    "algorithm = 'MISH'\n",
    "fitness_function = 'weighted_size'\n",
    "if algorithm == 'MOSA':\n",
    "    result_format = f'with_500_faults_EM_logs'\n",
    "else:\n",
    "    result_format = f'with_500_faults_{fitness_function}_EM_logs'\n",
    "\n",
    "covered_targets = []\n",
    "potential_faults = []\n",
    "potential_500_faults = []\n",
    "\n",
    "for i in range(1, num_iterations):\n",
    "    file = f\"../../results_{app}_no_cpu_restriction/{app}_{result_format}_{algorithm}_{i}.txt\"\n",
    "    ct, pt, pt500 = parse_results_num(file)\n",
    "    covered_targets.append(ct)\n",
    "    potential_faults.append(pt)\n",
    "    potential_500_faults.append(pt500)"
   ]
  },
  {
   "cell_type": "code",
   "execution_count": 43,
   "metadata": {},
   "outputs": [
    {
     "name": "stdout",
     "output_type": "stream",
     "text": [
      "1932\n",
      "1870\n",
      "1477\n",
      "1936\n",
      "1809\n",
      "1478\n",
      "1477\n",
      "2049\n",
      "1691\n",
      "1469\n"
     ]
    }
   ],
   "source": [
    "for ct in covered_targets:\n",
    "    print(str(ct))"
   ]
  },
  {
   "cell_type": "code",
   "execution_count": 44,
   "metadata": {},
   "outputs": [
    {
     "name": "stdout",
     "output_type": "stream",
     "text": [
      "7\n",
      "7\n",
      "7\n",
      "8\n",
      "9\n",
      "7\n",
      "6\n",
      "7\n",
      "4\n",
      "6\n"
     ]
    }
   ],
   "source": [
    "for pt in potential_faults:\n",
    "    print(str(pt))"
   ]
  },
  {
   "cell_type": "code",
   "execution_count": 45,
   "metadata": {},
   "outputs": [
    {
     "name": "stdout",
     "output_type": "stream",
     "text": [
      "7\n",
      "7\n",
      "7\n",
      "8\n",
      "9\n",
      "7\n",
      "6\n",
      "7\n",
      "4\n",
      "6\n"
     ]
    }
   ],
   "source": [
    "for pt500 in potential_500_faults:\n",
    "    print(str(pt500))"
   ]
  }
 ],
 "metadata": {
  "kernelspec": {
   "display_name": "Python 3",
   "language": "python",
   "name": "python3"
  },
  "language_info": {
   "codemirror_mode": {
    "name": "ipython",
    "version": 3
   },
   "file_extension": ".py",
   "mimetype": "text/x-python",
   "name": "python",
   "nbconvert_exporter": "python",
   "pygments_lexer": "ipython3",
   "version": "3.9.20"
  }
 },
 "nbformat": 4,
 "nbformat_minor": 2
}
