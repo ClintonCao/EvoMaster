{
 "cells": [
  {
   "cell_type": "code",
   "execution_count": 1,
   "metadata": {},
   "outputs": [],
   "source": [
    "def parse_results_num(file, version):\n",
    "    with open(file) as f:\n",
    "        lines = f.readlines() \n",
    "        num_covered_targets = 0\n",
    "        num_potential_faults = 0\n",
    "        num_potential_500_faults = 0\n",
    "        \n",
    "        # if version == 'v200':\n",
    "        #     pt500_text_to_check = \"* Potential 500 faults IDs: \"\n",
    "        # else:\n",
    "        #     pt500_text_to_check = \"* Potential 500 faults: \"\n",
    "\n",
    "        for line in lines:\n",
    "            if \"* Covered targets (lines\" in line:\n",
    "                num_covered_targets = int(line.split(\"etc.): \")[1].split('\\n')[0])\n",
    "            if \"* Potential faults: \" in line:\n",
    "                num_potential_faults = int(line.split('faults: ')[1].split('\\n')[0])\n",
    "            if \"* Potential 500 faults: \" in line:\n",
    "                num_potential_500_faults = int(line.split(\"* Potential 500 faults: \")[1].split('\\n')[0])\n",
    "\n",
    "        if num_covered_targets == 0 and num_potential_faults == 0 and num_potential_500_faults == 0:\n",
    "            print(f\"Results missing for file: {file}\")\n",
    "        \n",
    "        return num_covered_targets, num_potential_faults, num_potential_500_faults\n",
    "       \n"
   ]
  },
  {
   "cell_type": "code",
   "execution_count": 6,
   "metadata": {},
   "outputs": [],
   "source": [
    "num_iterations = 11\n",
    "app = \"catwatch\"\n",
    "algorithms = ['MOSA', 'MISH', 'MISHMOSA']\n",
    "fitness_function = 'weighted_size'\n",
    "# if algorithm == 'MOSA':\n",
    "result_format = f'with_500_faults_EM_logs'\n",
    "version = 'v200'\n",
    "# else:\n",
    "    # result_format = f'with_500_faults_{fitness_function}_EM_logs'\n",
    "\n",
    "all_runs_covered_targets = dict()\n",
    "all_runs_potential_faults = dict()\n",
    "all_runs_potential_500_faults = dict()\n",
    "\n",
    "for algorithm in algorithms:\n",
    "    covered_targets = []\n",
    "    potential_faults = []\n",
    "    potential_500_faults = []\n",
    "    for i in range(1, num_iterations):\n",
    "        file = f\"../../results_{app}_{version}_{fitness_function}_latest/{app}_{result_format}_{algorithm}_{i}.txt\"\n",
    "        ct, pt, pt500 = parse_results_num(file, version)\n",
    "        covered_targets.append(ct)\n",
    "        potential_faults.append(pt)\n",
    "        potential_500_faults.append(pt500)\n",
    "    \n",
    "    all_runs_covered_targets[algorithm] = covered_targets\n",
    "    all_runs_potential_faults[algorithm] = potential_faults\n",
    "    all_runs_potential_500_faults[algorithm] = potential_500_faults\n"
   ]
  },
  {
   "cell_type": "code",
   "execution_count": 7,
   "metadata": {},
   "outputs": [
    {
     "name": "stdout",
     "output_type": "stream",
     "text": [
      "15543 \t 12599\n",
      "2911 \t 20688\n",
      "3049 \t 3109\n",
      "2940 \t 2883\n",
      "2965 \t 2986\n",
      "3040 \t 10558\n",
      "10824 \t 2965\n",
      "3026 \t 18546\n",
      "2992 \t 2971\n",
      "3081 \t 3065\n"
     ]
    }
   ],
   "source": [
    "# MOSA_covered_targets = all_runs_covered_targets['MOSA']\n",
    "MISH_covered_targets = all_runs_covered_targets['MISH']\n",
    "MISHMOSA_covered_targets = all_runs_covered_targets['MISHMOSA']\n",
    "\n",
    "# Print them in table format\n",
    "for i in range(num_iterations - 1):\n",
    "    # print(f\"{MOSA_covered_targets[i]} \\t {MISH_covered_targets[i]} \\t {MISHMOSA_covered_targets[i]}\")\n",
    "    print(f\"{MISH_covered_targets[i]} \\t {MISHMOSA_covered_targets[i]}\")"
   ]
  },
  {
   "cell_type": "code",
   "execution_count": 8,
   "metadata": {},
   "outputs": [
    {
     "name": "stdout",
     "output_type": "stream",
     "text": [
      "7 \t 9\n",
      "6 \t 6\n",
      "6 \t 6\n",
      "7 \t 7\n",
      "7 \t 8\n",
      "6 \t 7\n",
      "7 \t 6\n",
      "6 \t 10\n",
      "7 \t 7\n",
      "6 \t 6\n"
     ]
    }
   ],
   "source": [
    "# MOSA_potential_faults = all_runs_potential_faults['MOSA']\n",
    "MISH_potential_faults = all_runs_potential_faults['MISH']\n",
    "MISHMOSA_potential_faults = all_runs_potential_faults['MISHMOSA']\n",
    "\n",
    "for i in range(num_iterations - 1):\n",
    "    # print(f\"{MOSA_potential_faults[i]} \\t {MISH_potential_faults[i]} \\t {MISHMOSA_potential_faults[i]}\")\n",
    "    print(f\"{MISH_potential_faults[i]} \\t {MISHMOSA_potential_faults[i]}\")"
   ]
  },
  {
   "cell_type": "code",
   "execution_count": 10,
   "metadata": {},
   "outputs": [
    {
     "name": "stdout",
     "output_type": "stream",
     "text": [
      "4 \t 6\n",
      "4 \t 3\n",
      "4 \t 4\n",
      "5 \t 5\n",
      "5 \t 6\n",
      "4 \t 4\n",
      "4 \t 4\n",
      "4 \t 7\n",
      "5 \t 5\n",
      "4 \t 4\n"
     ]
    }
   ],
   "source": [
    "# MOSA_potential_500_faults = all_runs_potential_500_faults['MOSA']\n",
    "MISH_potential_500_faults = all_runs_potential_500_faults['MISH']\n",
    "MISHMOSA_potential_500_faults = all_runs_potential_500_faults['MISHMOSA']\n",
    "\n",
    "for i in range(num_iterations - 1):\n",
    "    # print(f\"{MOSA_potential_500_faults[i]} \\t {MISH_potential_500_faults[i]} \\t {MISHMOSA_potential_500_faults[i]}\")\n",
    "    print(f\"{MISH_potential_500_faults[i]} \\t {MISHMOSA_potential_500_faults[i]}\")"
   ]
  },
  {
   "cell_type": "markdown",
   "metadata": {},
   "source": [
    "# Computing statistics for paper."
   ]
  },
  {
   "cell_type": "code",
   "execution_count": 31,
   "metadata": {},
   "outputs": [
    {
     "name": "stdout",
     "output_type": "stream",
     "text": [
      "MOSA\tMISH - LM\tMISH - WS\tMISHMOSA - LM\tMISHMOSA - WS\n",
      "10.0\t7.0\t7.0\t8.0\t7.5\n",
      "25.0\t24.0\t23.5\t25.0\t24.5\n",
      "57.5\t52.5\t45.0\t54.5\t50.5\n",
      "29.0\t34.0\t34.5\t34.0\t34.0\n",
      "5.0\t5.5\t4.0\t5.0\t4.5\n"
     ]
    }
   ],
   "source": [
    "from statistics import median\n",
    "num_iterations = 11\n",
    "applications = ['catwatch', 'features-service', 'scout-api', 'proxyprint', 'languagetool']\n",
    "algorithms = ['MOSA', 'MISH', 'MISHMOSA']\n",
    "fitness_functions = ['lower_median', 'weighted_size']\n",
    "abbrev_map = {'lower_median': 'LM', 'weighted_size': 'WS'}\n",
    "result_format = f'with_500_faults_EM_logs'\n",
    "version = 'v200'\n",
    "\n",
    "app_results = dict()\n",
    "for app in applications:\n",
    "    app_results[app] = dict()\n",
    "    all_runs_covered_targets = dict()\n",
    "    all_runs_potential_faults = dict()\n",
    "    all_runs_potential_500_faults = dict()\n",
    "\n",
    "    for fitness_function in fitness_functions:\n",
    "        for algorithm in algorithms:\n",
    "            if algorithm == 'MOSA' and fitness_function == 'weighted_size':\n",
    "                continue\n",
    "\n",
    "            covered_targets = []\n",
    "            potential_faults = []\n",
    "            potential_500_faults = []\n",
    "            for i in range(1, num_iterations):\n",
    "                file = f\"../../results_{app}_{version}_{fitness_function}_latest/{app}_{result_format}_{algorithm}_{i}.txt\"\n",
    "                ct, pt, pt500 = parse_results_num(file, version)\n",
    "                covered_targets.append(ct)\n",
    "                potential_faults.append(pt)\n",
    "                potential_500_faults.append(pt500)\n",
    "            \n",
    "            if algorithm == 'MOSA':\n",
    "                method_name = algorithm\n",
    "            else:\n",
    "                method_name = f\"{algorithm} - {abbrev_map[fitness_function]}\"\n",
    "\n",
    "            all_runs_covered_targets[method_name] = covered_targets\n",
    "            all_runs_potential_faults[method_name] = potential_faults\n",
    "            all_runs_potential_500_faults[method_name] = potential_500_faults\n",
    "\n",
    "    app_results[app]['covered_targets'] = all_runs_covered_targets\n",
    "    app_results[app]['potential_faults'] = all_runs_potential_faults\n",
    "    app_results[app]['potential_500_faults'] = all_runs_potential_500_faults\n",
    "\n",
    "# first print the method names in one line\n",
    "method_names = ['MOSA', 'MISH - LM', 'MISH - WS', 'MISHMOSA - LM', 'MISHMOSA - WS']\n",
    "print('\\t'.join(method_names))\n",
    "\n",
    "# Then print the median covered targets\n",
    "all_medians = []\n",
    "\n",
    "for app in applications:\n",
    "    medians = []\n",
    "    for method_name in method_names:\n",
    "        medians.append(str(median(app_results[app]['potential_500_faults'][method_name])))\n",
    "\n",
    "    all_medians.append(medians)\n",
    "\n",
    "for medians in all_medians:\n",
    "    print('\\t'.join(medians))\n",
    "\n",
    "\n",
    "\n",
    "\n"
   ]
  },
  {
   "cell_type": "code",
   "execution_count": null,
   "metadata": {},
   "outputs": [],
   "source": []
  }
 ],
 "metadata": {
  "kernelspec": {
   "display_name": "Python 3",
   "language": "python",
   "name": "python3"
  },
  "language_info": {
   "codemirror_mode": {
    "name": "ipython",
    "version": 3
   },
   "file_extension": ".py",
   "mimetype": "text/x-python",
   "name": "python",
   "nbconvert_exporter": "python",
   "pygments_lexer": "ipython3",
   "version": "3.9.20"
  }
 },
 "nbformat": 4,
 "nbformat_minor": 2
}
